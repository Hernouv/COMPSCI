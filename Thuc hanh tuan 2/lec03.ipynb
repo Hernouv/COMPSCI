{
 "cells": [
  {
   "cell_type": "markdown",
   "id": "bef226a8",
   "metadata": {
    "id": "bef226a8"
   },
   "source": [
    "\n",
    "# Lecture 03 — Expressions, Operators & I/O - Jupyter Notebook\n",
    "\n",
    "This notebook mirrors the lecture 03 on \"Expression, Operators, and Input/Output in Python\". It provides runnable code examples with explanations. The content include the following parts:  \n",
    "\n",
    "1. Real‑life Example (Bookstore Cashier)  \n",
    "2. Variables, Data Types & Values  \n",
    "3. Expressions & Operators\n",
    "4. Input & Output\n",
    "5. Mini Exercises  \n",
    "6. Summary\n"
   ]
  },
  {
   "cell_type": "markdown",
   "id": "279d127e",
   "metadata": {
    "id": "279d127e"
   },
   "source": [
    "\n",
    "## Part 1 — Real‑life Example: Bookstore Cashier\n",
    "\n",
    "**Task**: Compute the total payment for items in a basket.  \n",
    "**Decomposition**: `total = sum(amount of each item)`  \n",
    "**Pattern Recognition & Abstraction**: `amount = quantity × price`  \n",
    "**Algorithm**: initialize total to 0, iterate items, accumulate, print total.\n",
    "\n",
    "We'll demonstrate multiple approaches and discuss money‑handling notes.\n"
   ]
  },
  {
   "cell_type": "code",
   "execution_count": null,
   "id": "f4cae46e",
   "metadata": {
    "colab": {
     "base_uri": "https://localhost:8080/"
    },
    "executionInfo": {
     "elapsed": 7,
     "status": "ok",
     "timestamp": 1758507153423,
     "user": {
      "displayName": "Duc-Trong Le",
      "userId": "16908825448293823105"
     },
     "user_tz": -420
    },
    "id": "f4cae46e",
    "outputId": "c1f97a23-19df-413b-b0ed-293be96fbb49"
   },
   "outputs": [
    {
     "name": "stdout",
     "output_type": "stream",
     "text": [
      "Total (loop): 79.97\n",
      "Total (comprehension): 79.97\n",
      "32\n"
     ]
    }
   ],
   "source": [
    "# Example dataset: each item has a name, quantity (int), and unit price (float)\n",
    "basket = [\n",
    "    {\"title\": \"Intro to Python\", \"qty\": 2, \"price\": 12.50},\n",
    "    {\"title\": \"Data Science 101\", \"qty\": 1, \"price\": 25.00},\n",
    "    {\"title\": \"Algorithms Illustrated\", \"qty\": 3, \"price\": 9.99},\n",
    "]\n",
    "\n",
    "# Approach 1: straightforward loop\n",
    "total = 0.0\n",
    "for item in basket:\n",
    "    amount = item[\"qty\"] * item[\"price\"]\n",
    "    total += amount\n",
    "\n",
    "print(\"Total (loop):\", total)\n",
    "\n",
    "# Approach 2: comprehension + sum\n",
    "total2 = sum(item[\"qty\"] * item[\"price\"] for item in basket)\n",
    "print(\"Total (comprehension):\", total2)"
   ]
  },
  {
   "cell_type": "code",
   "execution_count": 21,
   "id": "31201e95",
   "metadata": {
    "colab": {
     "base_uri": "https://localhost:8080/"
    },
    "executionInfo": {
     "elapsed": 21,
     "status": "ok",
     "timestamp": 1758477519122,
     "user": {
      "displayName": "Duc-Trong Le",
      "userId": "16908825448293823105"
     },
     "user_tz": -420
    },
    "id": "31201e95",
    "outputId": "c3a8110e-0679-4d48-92a1-9ad90cb7fd90"
   },
   "outputs": [
    {
     "name": "stdout",
     "output_type": "stream",
     "text": [
      "Total (Decimal, currency‑rounded): 79.97\n"
     ]
    }
   ],
   "source": [
    "# Money handling best practice: use Decimal for exact decimal arithmetic (avoids binary float rounding)\n",
    "from decimal import Decimal, ROUND_HALF_UP, getcontext\n",
    "\n",
    "getcontext().prec = 28  # sufficient precision for typical currency tasks\n",
    "basket_decimal = [\n",
    "    {\"title\": \"Intro to Python\", \"qty\": 2, \"price\": Decimal(\"12.50\")},\n",
    "    {\"title\": \"Data Science 101\", \"qty\": 1, \"price\": Decimal(\"25.00\")},\n",
    "    {\"title\": \"Algorithms Illustrated\", \"qty\": 3, \"price\": Decimal(\"9.99\")},\n",
    "]\n",
    "\n",
    "total_dec = sum(Decimal(item[\"qty\"]) * item[\"price\"] for item in basket_decimal)\n",
    "# Round to 2 decimal places in a currency‑like way\n",
    "total_dec = total_dec.quantize(Decimal(\"0.01\"), rounding=ROUND_HALF_UP)\n",
    "print(\"Total (Decimal, currency‑rounded):\", total_dec)\n"
   ]
  },
  {
   "cell_type": "markdown",
   "id": "712118b0",
   "metadata": {
    "id": "712118b0"
   },
   "source": [
    "\n",
    "**Edge Cases**  \n",
    "- Empty basket → total is 0.  \n",
    "- Negative or zero quantities or prices should be validated.  \n",
    "- Very large quantities/prices → consider integer cents with `Decimal` or integer math.\n"
   ]
  },
  {
   "cell_type": "code",
   "execution_count": 22,
   "id": "ca841dea",
   "metadata": {
    "colab": {
     "base_uri": "https://localhost:8080/"
    },
    "executionInfo": {
     "elapsed": 19,
     "status": "ok",
     "timestamp": 1758477519123,
     "user": {
      "displayName": "Duc-Trong Le",
      "userId": "16908825448293823105"
     },
     "user_tz": -420
    },
    "id": "ca841dea",
    "outputId": "9b55f96c-87ae-42b6-e380-a074103f64fc"
   },
   "outputs": [
    {
     "name": "stdout",
     "output_type": "stream",
     "text": [
      "Total for empty basket: 0\n"
     ]
    }
   ],
   "source": [
    "# Edge case demo: empty basket\n",
    "empty_basket = []\n",
    "total_empty = sum(item[\"qty\"] * item[\"price\"] for item in empty_basket)\n",
    "print(\"Total for empty basket:\", total_empty)"
   ]
  },
  {
   "cell_type": "markdown",
   "id": "9982b781",
   "metadata": {
    "id": "9982b781"
   },
   "source": [
    "\n",
    "## Part 2 — Variables, Data Types & Values\n",
    "\n",
    "A **variable** is a named reference to a value. A **data type** defines the kind of value and what operations are valid on it.\n"
   ]
  },
  {
   "cell_type": "code",
   "execution_count": 23,
   "id": "a991ddf6",
   "metadata": {
    "colab": {
     "base_uri": "https://localhost:8080/"
    },
    "executionInfo": {
     "elapsed": 7,
     "status": "ok",
     "timestamp": 1758507191273,
     "user": {
      "displayName": "Duc-Trong Le",
      "userId": "16908825448293823105"
     },
     "user_tz": -420
    },
    "id": "a991ddf6",
    "outputId": "6f4ba17f-d545-4210-af03-fcdae50edac4"
   },
   "outputs": [
    {
     "name": "stdout",
     "output_type": "stream",
     "text": [
      "<class 'int'> <class 'float'> <class 'str'> <class 'bool'>\n",
      "<class 'dict'> <class 'tuple'> <class 'list'> <class 'NoneType'>\n"
     ]
    }
   ],
   "source": [
    "# Basic assignments and types\n",
    "x = 5                       # int\n",
    "y = 3.14                    # float\n",
    "s = \"Hello\"                 # str\n",
    "flag = True                 # bool\n",
    "scores = {\"Math\": 8.4, \"English\": 9.0, \"Physics\": 6.5}  # dict\n",
    "courses = (\"Math\", \"English\", \"Physics\")                # tuple\n",
    "bag = [\"it's\", \"a\", \"good\", \"day\"]                      # list\n",
    "none_val = None\n",
    "\n",
    "print(type(x), type(y), type(s), type(flag))\n",
    "print(type(scores), type(courses), type(bag), type(none_val))\n"
   ]
  },
  {
   "cell_type": "markdown",
   "id": "6af54b76",
   "metadata": {
    "id": "6af54b76"
   },
   "source": [
    "\n",
    "**Naming Rules (illustrative)**  \n",
    "- Letters, digits, underscores (`total_payment`, `_helper`)  \n",
    "- Cannot start with a digit (`2var` ❌)  \n",
    "- Case‑sensitive (`myVar` vs `myvar`)  \n",
    "- Avoid Python keywords (`if`, `for`, `else`, ...)\n"
   ]
  },
  {
   "cell_type": "code",
   "execution_count": 24,
   "id": "74c9a2fc",
   "metadata": {
    "colab": {
     "base_uri": "https://localhost:8080/"
    },
    "executionInfo": {
     "elapsed": 20,
     "status": "ok",
     "timestamp": 1758507207160,
     "user": {
      "displayName": "Duc-Trong Le",
      "userId": "16908825448293823105"
     },
     "user_tz": -420
    },
    "id": "74c9a2fc",
    "outputId": "d9e0f15b-bd61-4061-d655-b001fb9cc98f"
   },
   "outputs": [
    {
     "name": "stdout",
     "output_type": "stream",
     "text": [
      "v = 10 | type: <class 'int'>\n",
      "v = Now a string | type: <class 'str'>\n",
      "42 <class 'int'> | 42.0 <class 'float'>\n",
      "to_int_safe('15') = 15\n",
      "to_int_safe('15.2') = 0\n",
      "to_int_safe('abc') = -1\n"
     ]
    }
   ],
   "source": [
    "# Dynamic typing & type casting\n",
    "v = 10            # int\n",
    "print(\"v =\", v, \"| type:\", type(v))\n",
    "\n",
    "v = \"Now a string\"  # same name, new type\n",
    "print(\"v =\", v, \"| type:\", type(v))\n",
    "\n",
    "# Type casting (conversion)\n",
    "num_str = \"42\"\n",
    "num_int = int(num_str)\n",
    "num_float = float(num_str)\n",
    "print(num_int, type(num_int), \"|\", num_float, type(num_float))\n",
    "\n",
    "# Safe casting with defaults\n",
    "def to_int_safe(text, default=0):\n",
    "    try:\n",
    "        return int(text)\n",
    "    except ValueError:\n",
    "        return default\n",
    "\n",
    "print(\"to_int_safe('15') =\", to_int_safe(\"15\"))\n",
    "print(\"to_int_safe('15.2') =\", to_int_safe(\"15.2\"))\n",
    "print(\"to_int_safe('abc') =\", to_int_safe(\"abc\", default=-1))\n"
   ]
  },
  {
   "cell_type": "markdown",
   "id": "44c1334d",
   "metadata": {
    "id": "44c1334d"
   },
   "source": [
    "\n",
    "### Local & Global Variables (Scope)\n",
    "\n",
    "- **Local**: defined inside a function, accessible only there.  \n",
    "- **Global**: defined at the top level and accessible inside functions (read‑only by default).  \n",
    "- Use `global` carefully; prefer returning values.\n"
   ]
  },
  {
   "cell_type": "code",
   "execution_count": 25,
   "id": "37afacb8",
   "metadata": {
    "colab": {
     "base_uri": "https://localhost:8080/"
    },
    "executionInfo": {
     "elapsed": 44,
     "status": "ok",
     "timestamp": 1758507322806,
     "user": {
      "displayName": "Duc-Trong Le",
      "userId": "16908825448293823105"
     },
     "user_tz": -420
    },
    "id": "37afacb8",
    "outputId": "a46c7512-1ea6-4c09-a3cc-2f309ef2c0bf"
   },
   "outputs": [
    {
     "name": "stdout",
     "output_type": "stream",
     "text": [
      "Initial g: 10\n",
      "Read-only use of g: 15\n",
      "After modifying g with global: 13\n",
      "Now g is: 13\n",
      "Pure function result: 20 | g is still: 13\n"
     ]
    }
   ],
   "source": [
    "# Global vs Local demonstration\n",
    "g = 10  # global variable\n",
    "\n",
    "def add_to_global_bad(x):\n",
    "    # This reads g (OK) but tries to modify it without declaring global → would be an error if assignment used.\n",
    "    return g + x\n",
    "\n",
    "def add_to_global_good(x):\n",
    "    global g\n",
    "    g = g + x  # explicit modification of global (not recommended generally)\n",
    "    return g\n",
    "\n",
    "def pure_function_increment(g_val, x):\n",
    "    # Preferred: avoid globals, return new value\n",
    "    return g_val + x\n",
    "\n",
    "print(\"Initial g:\", g)\n",
    "print(\"Read-only use of g:\", add_to_global_bad(5))\n",
    "print(\"After modifying g with global:\", add_to_global_good(3))\n",
    "print(\"Now g is:\", g)\n",
    "print(\"Pure function result:\", pure_function_increment(g, 7), \"| g is still:\", g)\n"
   ]
  },
  {
   "cell_type": "markdown",
   "id": "f8c25d7c",
   "metadata": {
    "id": "f8c25d7c"
   },
   "source": [
    "\n",
    "## Part 3 — Expressions & Operators\n",
    "\n",
    "An **expression** combines operands and operators to produce a value.  \n",
    "Examples: `x = 3 + 5`, `y = (3 * 7 + 2) * 0.1`\n"
   ]
  },
  {
   "cell_type": "markdown",
   "id": "0b4bb005",
   "metadata": {
    "id": "0b4bb005"
   },
   "source": [
    "### 3.1 Arithmetic Operators"
   ]
  },
  {
   "cell_type": "code",
   "execution_count": 26,
   "id": "f61ef673",
   "metadata": {
    "colab": {
     "base_uri": "https://localhost:8080/"
    },
    "executionInfo": {
     "elapsed": 7,
     "status": "ok",
     "timestamp": 1758507335702,
     "user": {
      "displayName": "Duc-Trong Le",
      "userId": "16908825448293823105"
     },
     "user_tz": -420
    },
    "id": "f61ef673",
    "outputId": "fa219104-71a1-47dc-d9a4-20c4d9173f64"
   },
   "outputs": [
    {
     "name": "stdout",
     "output_type": "stream",
     "text": [
      "a + b = 10\n",
      "a - b = 4\n",
      "a * b = 21\n",
      "a / b = 2.3333333333333335\n",
      "a // b = 2\n",
      "a % b = 1\n",
      "a ** b = 343\n"
     ]
    }
   ],
   "source": [
    "a, b = 7, 3\n",
    "print(\"a + b =\", a + b)\n",
    "print(\"a - b =\", a - b)\n",
    "print(\"a * b =\", a * b)\n",
    "print(\"a / b =\", a / b)     # float division\n",
    "print(\"a // b =\", a // b)   # floor division\n",
    "print(\"a % b =\", a % b)     # modulus\n",
    "print(\"a ** b =\", a ** b)   # exponentiation\n"
   ]
  },
  {
   "cell_type": "markdown",
   "id": "29364cce",
   "metadata": {
    "id": "29364cce"
   },
   "source": [
    "### 3.2 Comparison Operators"
   ]
  },
  {
   "cell_type": "code",
   "execution_count": 27,
   "id": "c3ccb8b8",
   "metadata": {
    "colab": {
     "base_uri": "https://localhost:8080/"
    },
    "executionInfo": {
     "elapsed": 10,
     "status": "ok",
     "timestamp": 1758507365193,
     "user": {
      "displayName": "Duc-Trong Le",
      "userId": "16908825448293823105"
     },
     "user_tz": -420
    },
    "id": "c3ccb8b8",
    "outputId": "4d61ef3d-773b-41db-d9f6-94c8e854d508"
   },
   "outputs": [
    {
     "name": "stdout",
     "output_type": "stream",
     "text": [
      "x < y: True\n",
      "x == y: False\n",
      "x != y: True\n",
      "0.1 + 0.2 == 0.3 ? False\n",
      "math.isclose(0.1 + 0.2, 0.3) ? True\n",
      "'Apple' < 'banana': True\n",
      "[1, 9] < [2, 0] : True\n",
      "(1, 9) < (1, 10): True\n"
     ]
    }
   ],
   "source": [
    "x, y = 10, 20\n",
    "print(\"x < y:\", x < y)\n",
    "print(\"x == y:\", x == y)\n",
    "print(\"x != y:\", x != y)\n",
    "\n",
    "# Floats: use math.isclose for equality\n",
    "import math\n",
    "f1 = 0.1 + 0.2\n",
    "f2 = 0.3\n",
    "print(\"0.1 + 0.2 == 0.3 ?\", f1 == f2)\n",
    "print(\"math.isclose(0.1 + 0.2, 0.3) ?\", math.isclose(f1, f2))\n",
    "\n",
    "# Strings: Unicode code point comparison (lexicographic)\n",
    "print(\"'Apple' < 'banana':\", \"Apple\" < \"banana\")\n",
    "\n",
    "# Lists & Tuples: lexicographic item-by-item\n",
    "print(\"[1, 9] < [2, 0] :\", [1, 9] < [2, 0])\n",
    "print(\"(1, 9) < (1, 10):\", (1, 9) < (1, 10))\n"
   ]
  },
  {
   "cell_type": "markdown",
   "id": "8b685081",
   "metadata": {
    "id": "8b685081"
   },
   "source": [
    "### 3.3 Logical Operators"
   ]
  },
  {
   "cell_type": "code",
   "execution_count": 28,
   "id": "ce9e1577",
   "metadata": {
    "colab": {
     "base_uri": "https://localhost:8080/"
    },
    "executionInfo": {
     "elapsed": 7,
     "status": "ok",
     "timestamp": 1758507369333,
     "user": {
      "displayName": "Duc-Trong Le",
      "userId": "16908825448293823105"
     },
     "user_tz": -420
    },
    "id": "ce9e1577",
    "outputId": "12bb3106-6bb3-4081-d3a0-394b2cc2e2bf"
   },
   "outputs": [
    {
     "name": "stdout",
     "output_type": "stream",
     "text": [
      "Pass? True\n",
      "Discount? True\n",
      "not True = False\n"
     ]
    }
   ],
   "source": [
    "score = 8\n",
    "absence = 1\n",
    "print(\"Pass?\", (score >= 5) and (absence < 3))\n",
    "\n",
    "is_member = False\n",
    "has_coupon = True\n",
    "print(\"Discount?\", is_member or has_coupon)\n",
    "\n",
    "print(\"not True =\", not True)"
   ]
  },
  {
   "cell_type": "markdown",
   "id": "9893be1a",
   "metadata": {
    "id": "9893be1a"
   },
   "source": [
    "### 3.4 Bitwise Operators"
   ]
  },
  {
   "cell_type": "code",
   "execution_count": 29,
   "id": "9841ccff",
   "metadata": {
    "colab": {
     "base_uri": "https://localhost:8080/"
    },
    "executionInfo": {
     "elapsed": 59,
     "status": "ok",
     "timestamp": 1758477519226,
     "user": {
      "displayName": "Duc-Trong Le",
      "userId": "16908825448293823105"
     },
     "user_tz": -420
    },
    "id": "9841ccff",
    "outputId": "b14819e5-214e-47e8-b8a0-b6219c5b6a8b"
   },
   "outputs": [
    {
     "name": "stdout",
     "output_type": "stream",
     "text": [
      "p     : 00001100\n",
      "q     : 00001010\n",
      "p & q : 00001000\n",
      "p | q : 00001110\n",
      "p ^ q : 00000110\n",
      "~p    : 11110011\n",
      "p << 1: 00011000\n",
      "p >> 2: 00000011\n"
     ]
    }
   ],
   "source": [
    "def as_bin(n, width=8):\n",
    "    return format(n, f\"0{width}b\")\n",
    "\n",
    "p, q = 0b1100, 0b1010  # 12 and 10\n",
    "print(\"p     :\", as_bin(p))\n",
    "print(\"q     :\", as_bin(q))\n",
    "print(\"p & q :\", as_bin(p & q))   # AND\n",
    "print(\"p | q :\", as_bin(p | q))   # OR\n",
    "print(\"p ^ q :\", as_bin(p ^ q))   # XOR\n",
    "print(\"~p    :\", as_bin((~p) & 0xFF))  # NOT (mask to 8 bits for display)\n",
    "print(\"p << 1:\", as_bin(p << 1))\n",
    "print(\"p >> 2:\", as_bin(p >> 2))\n"
   ]
  },
  {
   "cell_type": "markdown",
   "id": "b61a7cbb",
   "metadata": {
    "id": "b61a7cbb"
   },
   "source": [
    "### 3.5 Assignment Operators"
   ]
  },
  {
   "cell_type": "code",
   "execution_count": 30,
   "id": "983b479b",
   "metadata": {
    "colab": {
     "base_uri": "https://localhost:8080/"
    },
    "executionInfo": {
     "elapsed": 7,
     "status": "ok",
     "timestamp": 1758507407791,
     "user": {
      "displayName": "Duc-Trong Le",
      "userId": "16908825448293823105"
     },
     "user_tz": -420
    },
    "id": "983b479b",
    "outputId": "8732ff92-78ef-41dc-d4b2-d1bc54779b04"
   },
   "outputs": [
    {
     "name": "stdout",
     "output_type": "stream",
     "text": [
      "n = 10\n"
     ]
    }
   ],
   "source": [
    "n = 5\n",
    "n += 2   # n = n + 2\n",
    "n *= 3   # n = n * 3\n",
    "n -= 1   # n = n - 1\n",
    "n //= 2  # n = n // 2\n",
    "print(\"n =\", n)"
   ]
  },
  {
   "cell_type": "markdown",
   "id": "bfa1987d",
   "metadata": {
    "id": "bfa1987d"
   },
   "source": [
    "### 3.6 Membership Operators"
   ]
  },
  {
   "cell_type": "code",
   "execution_count": 31,
   "id": "354584c7",
   "metadata": {
    "colab": {
     "base_uri": "https://localhost:8080/"
    },
    "executionInfo": {
     "elapsed": 4,
     "status": "ok",
     "timestamp": 1758507482719,
     "user": {
      "displayName": "Duc-Trong Le",
      "userId": "16908825448293823105"
     },
     "user_tz": -420
    },
    "id": "354584c7",
    "outputId": "1f832940-6c85-43ab-941d-3a07a93983a1"
   },
   "outputs": [
    {
     "name": "stdout",
     "output_type": "stream",
     "text": [
      "'python' in words? True\n",
      "'rust' not in words? True\n",
      "'p' in 'python' True\n",
      "'c' in 'python' False\n"
     ]
    }
   ],
   "source": [
    "words = [\"python\", \"java\", \"c++\"]\n",
    "print(\"'python' in words?\", \"python\" in words)\n",
    "print(\"'rust' not in words?\", \"rust\" not in words)\n",
    "print(\"'p' in 'python'\", 'p' in 'python')\n",
    "print(\"'c' in 'python'\", 'c' in 'python')"
   ]
  },
  {
   "cell_type": "markdown",
   "id": "da67caa6",
   "metadata": {
    "id": "da67caa6"
   },
   "source": [
    "### 3.7 Operator Precedence & Associativity"
   ]
  },
  {
   "cell_type": "code",
   "execution_count": 32,
   "id": "f0fb4fdf",
   "metadata": {
    "colab": {
     "base_uri": "https://localhost:8080/"
    },
    "executionInfo": {
     "elapsed": 4,
     "status": "ok",
     "timestamp": 1758507492456,
     "user": {
      "displayName": "Duc-Trong Le",
      "userId": "16908825448293823105"
     },
     "user_tz": -420
    },
    "id": "f0fb4fdf",
    "outputId": "5840657f-893e-4bed-b574-902d8f28f184"
   },
   "outputs": [
    {
     "name": "stdout",
     "output_type": "stream",
     "text": [
      "3 + 5 * 2 = 13\n",
      "(3 + 5) * 2 = 16\n",
      "2 ** 3 ** 2 = 512\n",
      "(2 ** 3) ** 2 = 64\n"
     ]
    }
   ],
   "source": [
    "# Without parentheses, Python uses operator precedence rules\n",
    "expr1 = 3 + 5 * 2       # * before +\n",
    "expr2 = (3 + 5) * 2     # parentheses force evaluation order\n",
    "print(\"3 + 5 * 2 =\", expr1)\n",
    "print(\"(3 + 5) * 2 =\", expr2)\n",
    "\n",
    "# Right-associativity example for exponentiation\n",
    "print(\"2 ** 3 ** 2 =\", 2 ** 3 ** 2)       # 2 ** (3 ** 2) = 2 ** 9\n",
    "print(\"(2 ** 3) ** 2 =\", (2 ** 3) ** 2)   # (2 ** 3) ** 2 = 8 ** 2\n"
   ]
  },
  {
   "cell_type": "markdown",
   "id": "1468f87a",
   "metadata": {
    "id": "1468f87a"
   },
   "source": [
    "\n",
    "### 3.8. Expressions in Practice\n"
   ]
  },
  {
   "cell_type": "code",
   "execution_count": 33,
   "id": "27a3e286",
   "metadata": {
    "colab": {
     "base_uri": "https://localhost:8080/"
    },
    "executionInfo": {
     "elapsed": 12,
     "status": "ok",
     "timestamp": 1758507494607,
     "user": {
      "displayName": "Duc-Trong Le",
      "userId": "16908825448293823105"
     },
     "user_tz": -420
    },
    "id": "27a3e286",
    "outputId": "4a4f3f0e-37ce-4bdf-bbb5-e2343c2d37c4"
   },
   "outputs": [
    {
     "name": "stdout",
     "output_type": "stream",
     "text": [
      "Eligible for certificate.\n",
      "x = 0\n",
      "x = 1\n",
      "x = 2\n",
      "Squares of even numbers: [0, 4, 16, 36, 64]\n",
      "square(7) = 49\n",
      "Nested: True\n"
     ]
    }
   ],
   "source": [
    "# In conditions\n",
    "score, absence = 6, 2\n",
    "if (score >= 5) and (absence < 3):\n",
    "    print(\"Eligible for certificate.\")\n",
    "else:\n",
    "    print(\"Not eligible.\")\n",
    "\n",
    "# In loops\n",
    "x = 0\n",
    "while x < 3:\n",
    "    print(\"x =\", x)\n",
    "    x += 1\n",
    "\n",
    "# In list comprehension\n",
    "squares_of_even = [n**2 for n in range(10) if n % 2 == 0]\n",
    "print(\"Squares of even numbers:\", squares_of_even)\n",
    "\n",
    "# In functions\n",
    "def square(n):\n",
    "    return n ** 2\n",
    "\n",
    "print(\"square(7) =\", square(7))\n",
    "\n",
    "# Nested expressions\n",
    "a, b, c = 3, 8, 2\n",
    "print(\"Nested:\", (max(a, b, c) > 7) and ((a + b) % 2 == 1))\n"
   ]
  },
  {
   "cell_type": "markdown",
   "id": "0523f498",
   "metadata": {
    "id": "0523f498"
   },
   "source": [
    "\n",
    "## Part 4 — Input & Output (I/O)\n",
    "\n",
    "Python's `input()` reads user input as a **string**.  \n",
    "We demonstrate both interactive input and simulated input so the notebook runs non‑interactively.\n"
   ]
  },
  {
   "cell_type": "code",
   "execution_count": 34,
   "id": "a07a4ead",
   "metadata": {
    "colab": {
     "base_uri": "https://localhost:8080/"
    },
    "executionInfo": {
     "elapsed": 6386,
     "status": "ok",
     "timestamp": 1758517092213,
     "user": {
      "displayName": "Duc-Trong Le",
      "userId": "16908825448293823105"
     },
     "user_tz": -420
    },
    "id": "a07a4ead",
    "outputId": "11ce812e-9298-418c-aa85-b264839f2db9"
   },
   "outputs": [
    {
     "name": "stdout",
     "output_type": "stream",
     "text": [
      "Hello Alex, you are 21 years old.\n"
     ]
    }
   ],
   "source": [
    "# Interactive input (uncomment to try in Colab/Notebook)\n",
    "# name = input(\"Enter your name: \")\n",
    "# age_str = input(\"Enter your age: \")\n",
    "# age = int(age_str)  # type cast from str to int\n",
    "# print(f\"Hello {name}, you are {age} years old.\")\n",
    "\n",
    "# Simulated input for reproducible execution\n",
    "simulated_name = \"Alex\"\n",
    "simulated_age_str = \"21\"\n",
    "simulated_age = int(simulated_age_str)\n",
    "\n",
    "print(f\"Hello {simulated_name}, you are {simulated_age} years old.\")\n"
   ]
  },
  {
   "cell_type": "markdown",
   "id": "38fe795f",
   "metadata": {
    "id": "38fe795f"
   },
   "source": [
    "\n",
    "### Multiple Inputs\n",
    "Split a single line into many values using `.split()`.\n"
   ]
  },
  {
   "cell_type": "code",
   "execution_count": 35,
   "id": "e03f8fa6",
   "metadata": {
    "colab": {
     "base_uri": "https://localhost:8080/"
    },
    "executionInfo": {
     "elapsed": 4,
     "status": "ok",
     "timestamp": 1758507582535,
     "user": {
      "displayName": "Duc-Trong Le",
      "userId": "16908825448293823105"
     },
     "user_tz": -420
    },
    "id": "e03f8fa6",
    "outputId": "f0931307-72f9-4ee6-f68f-153f1da66907"
   },
   "outputs": [
    {
     "name": "stdout",
     "output_type": "stream",
     "text": [
      "Parsed: 10 20 30 | sum = 60\n"
     ]
    }
   ],
   "source": [
    "# Interactive version (uncomment to try):\n",
    "# line = input(\"Enter three integers separated by spaces: \")\n",
    "# a_str, b_str, c_str = line.split()\n",
    "# a, b, c = int(a_str), int(b_str), int(c_str)\n",
    "\n",
    "# Simulated:\n",
    "line = \"10 20 30\"\n",
    "a_str, b_str, c_str = line.split()\n",
    "a, b, c = int(a_str), int(b_str), int(c_str)\n",
    "print(\"Parsed:\", a, b, c, \"| sum =\", a + b + c)"
   ]
  },
  {
   "cell_type": "markdown",
   "id": "c38f79a7",
   "metadata": {
    "id": "c38f79a7"
   },
   "source": [
    "\n",
    "### Handling Common Mistakes\n",
    "Forgetting to cast types or passing invalid input can cause errors. Use `try/except` to validate.\n"
   ]
  },
  {
   "cell_type": "code",
   "execution_count": 36,
   "id": "84b61a12",
   "metadata": {
    "colab": {
     "base_uri": "https://localhost:8080/"
    },
    "executionInfo": {
     "elapsed": 16,
     "status": "ok",
     "timestamp": 1758507584543,
     "user": {
      "displayName": "Duc-Trong Le",
      "userId": "16908825448293823105"
     },
     "user_tz": -420
    },
    "id": "84b61a12",
    "outputId": "897c6c27-9834-40d8-cd62-389fbc03c8bd"
   },
   "outputs": [
    {
     "name": "stdout",
     "output_type": "stream",
     "text": [
      "42 -> 42\n",
      "3.14 -> None\n",
      "abc -> None\n"
     ]
    }
   ],
   "source": [
    "def read_int_safe(text: str):\n",
    "    \"\"\"Convert a string to an int, returning None if invalid.\"\"\"\n",
    "    try:\n",
    "        return int(text)\n",
    "    except ValueError:\n",
    "        return None\n",
    "\n",
    "tests = [\"42\", \"3.14\", \"abc\"]\n",
    "for t in tests:\n",
    "    print(t, \"->\", read_int_safe(t))"
   ]
  },
  {
   "cell_type": "markdown",
   "id": "1c9fd2b7",
   "metadata": {
    "id": "1c9fd2b7"
   },
   "source": [
    "\n",
    "### Printing & String Formatting\n"
   ]
  },
  {
   "cell_type": "code",
   "execution_count": 37,
   "id": "2d8f3351",
   "metadata": {
    "colab": {
     "base_uri": "https://localhost:8080/"
    },
    "executionInfo": {
     "elapsed": 7,
     "status": "ok",
     "timestamp": 1758517316109,
     "user": {
      "displayName": "Duc-Trong Le",
      "userId": "16908825448293823105"
     },
     "user_tz": -420
    },
    "id": "2d8f3351",
    "outputId": "6b77a95b-f09b-492e-b1f4-00423fb5ed9e"
   },
   "outputs": [
    {
     "name": "stdout",
     "output_type": "stream",
     "text": [
      "x = 7 | y = 3 | x+y = 10\n",
      "User Taylor has score 9.25\n",
      "Coordinates: x=12.5, y=-3\n",
      "An has got A+ grade\n",
      "Bach has got B grade\n",
      "Huong has got B+ grade\n",
      "    1\n",
      "   12\n",
      "  123\n",
      "pi to 3 decimals: 3.142\n",
      "pi to 3 decimals (format): 3.142\n"
     ]
    }
   ],
   "source": [
    "# Basics of print\n",
    "x, y = 7, 3\n",
    "print(\"x =\", x, \"| y =\", y, \"| x+y =\", x + y)\n",
    "\n",
    "# f-strings\n",
    "user = \"Taylor\"\n",
    "score = 9.25\n",
    "print(f\"User {user} has score {score:.2f}\")\n",
    "\n",
    "# .format()\n",
    "template = \"Coordinates: x={0}, y={1}\"\n",
    "print(template.format(12.5, -3))\n",
    "\n",
    "template = \"{} has got {} grade\"\n",
    "student_list = {\"An\": \"A+\", \"Bach\": \"B\", \"Huong\": \"B+\"}\n",
    "for student_name in student_list:\n",
    "  print(template.format(student_name, student_list[student_name]))\n",
    "\n",
    "# Alignment & width\n",
    "for n in [1, 12, 123]:\n",
    "    print(f\"{n:>5d}\")  # right-aligned in width 5\n",
    "\n",
    "# Number formatting\n",
    "pi = 3.1415926535\n",
    "print(f\"pi to 3 decimals: {pi:.3f}\")\n",
    "print(\"pi to 3 decimals (format): {:.3f}\".format(pi))"
   ]
  },
  {
   "cell_type": "markdown",
   "id": "2ab61c88",
   "metadata": {
    "id": "2ab61c88"
   },
   "source": [
    "\n",
    "## Part 4 — Mini Exercises\n",
    "\n",
    "1. **Total with Discount**: Given a `basket` and a `discount_rate` (e.g., 0.1 for 10%), compute the discounted total using `Decimal`.  \n",
    "2. **Pass/Fail Logic**: A student passes if score ≥ 5 and absences < 3. Write a function `passed(score, absences)` that returns `True`/`False`.  \n",
    "3. **Bitwise Mask**: Given an integer `n`, clear (set to 0) the 2nd bit (value 2) and print the result.\n"
   ]
  },
  {
   "cell_type": "code",
   "execution_count": 38,
   "id": "ba7b2155",
   "metadata": {
    "colab": {
     "base_uri": "https://localhost:8080/"
    },
    "executionInfo": {
     "elapsed": 12,
     "status": "ok",
     "timestamp": 1758507599171,
     "user": {
      "displayName": "Duc-Trong Le",
      "userId": "16908825448293823105"
     },
     "user_tz": -420
    },
    "id": "ba7b2155",
    "outputId": "8726bfbc-ae56-4223-8ea3-e543abef9bd3"
   },
   "outputs": [
    {
     "name": "stdout",
     "output_type": "stream",
     "text": [
      "Discounted total (10%): 45.00\n",
      "passed(6,2) -> True\n",
      "passed(4,1) -> False\n",
      "clear_second_bit(0b1111) = 0b1101\n"
     ]
    }
   ],
   "source": [
    "from decimal import Decimal, ROUND_HALF_UP\n",
    "\n",
    "def discounted_total(basket, discount_rate=Decimal(\"0.10\")):\n",
    "    total = sum(Decimal(item[\"qty\"]) * Decimal(str(item[\"price\"])) for item in basket)\n",
    "    total_after = total * (Decimal(\"1.00\") - discount_rate)\n",
    "    return total_after.quantize(Decimal(\"0.01\"), rounding=ROUND_HALF_UP)\n",
    "\n",
    "demo_basket = [\n",
    "    {\"title\": \"Intro to Python\", \"qty\": 2, \"price\": \"12.50\"},\n",
    "    {\"title\": \"Data Science 101\", \"qty\": 1, \"price\": \"25.00\"},\n",
    "]\n",
    "print(\"Discounted total (10%):\", discounted_total(demo_basket))\n",
    "\n",
    "def passed(score, absences):\n",
    "    return (score >= 5) and (absences < 3)\n",
    "\n",
    "print(\"passed(6,2) ->\", passed(6, 2))\n",
    "print(\"passed(4,1) ->\", passed(4, 1))\n",
    "\n",
    "def clear_second_bit(n: int) -> int:\n",
    "    # Bit index from LSB starting at 0 → second bit has value 2 (binary 10)\n",
    "    mask = ~0b10\n",
    "    return n & mask\n",
    "\n",
    "print(\"clear_second_bit(0b1111) =\", bin(clear_second_bit(0b1111)))"
   ]
  },
  {
   "cell_type": "markdown",
   "id": "2d6ef984",
   "metadata": {
    "id": "2d6ef984"
   },
   "source": [
    "\n",
    "## Part 5 — Summary (Key Takeaways)\n",
    "\n",
    "- Variables name and reference values; **data types** determine allowed operations.  \n",
    "- **Expressions** combine operators and operands to produce values.  \n",
    "- Understand **operator categories** (arithmetic, comparison, logical, bitwise, assignment, membership) and **precedence**.  \n",
    "- `input()` returns **strings** → cast to `int/float` as needed; handle errors with `try/except`.  \n",
    "- Use `print`, **f‑strings**, and `.format()` for clear, formatted output.  \n",
    "- For **currency**, prefer `Decimal` to avoid floating‑point rounding surprises.\n"
   ]
  },
  {
   "cell_type": "code",
   "execution_count": null,
   "id": "FLll2ngWcthY",
   "metadata": {
    "id": "FLll2ngWcthY"
   },
   "outputs": [],
   "source": []
  }
 ],
 "metadata": {
  "colab": {
   "provenance": []
  },
  "kernelspec": {
   "display_name": "base",
   "language": "python",
   "name": "python3"
  },
  "language_info": {
   "codemirror_mode": {
    "name": "ipython",
    "version": 3
   },
   "file_extension": ".py",
   "mimetype": "text/x-python",
   "name": "python",
   "nbconvert_exporter": "python",
   "pygments_lexer": "ipython3",
   "version": "3.12.4"
  }
 },
 "nbformat": 4,
 "nbformat_minor": 5
}
