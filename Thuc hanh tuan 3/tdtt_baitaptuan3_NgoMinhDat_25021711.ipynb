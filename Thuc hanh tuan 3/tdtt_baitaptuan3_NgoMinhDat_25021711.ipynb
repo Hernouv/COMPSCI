{
 "cells": [
  {
   "cell_type": "code",
   "execution_count": null,
   "id": "4a405630",
   "metadata": {},
   "outputs": [
    {
     "name": "stdout",
     "output_type": "stream",
     "text": [
      "0987654321"
     ]
    }
   ],
   "source": [
    "#Nhập vào một số nguyên và in các chữ số theo thứ tự đảo ngược\n",
    "num = input()\n",
    "for n in reversed(num):\n",
    "    print(n, end = '')"
   ]
  },
  {
   "cell_type": "code",
   "execution_count": null,
   "id": "a8063081",
   "metadata": {},
   "outputs": [
    {
     "name": "stdout",
     "output_type": "stream",
     "text": [
      "4568 1539\n"
     ]
    }
   ],
   "source": [
    "#Hoán đổi hai số ko sử dụng biến tạm thời, sử dụng toán tử bitwise XOR\n",
    "a, b = map(int, input().split())\n",
    "a ^= b\n",
    "b ^= a\n",
    "a ^= b\n",
    "print(a, b)"
   ]
  },
  {
   "cell_type": "code",
   "execution_count": null,
   "id": "7d808d6d",
   "metadata": {},
   "outputs": [
    {
     "name": "stdout",
     "output_type": "stream",
     "text": [
      "FALSE\n"
     ]
    }
   ],
   "source": [
    "#Kiểm tra một số có phải là lũy thừa của 2 hay không, sử dụng toán tử bitwise\n",
    "n  = int(input())\n",
    "if (n & (n - 1) == 0):\n",
    "    print(\"TRUE\")\n",
    "else:\n",
    "    print(\"FALSE\")"
   ]
  },
  {
   "cell_type": "code",
   "execution_count": 7,
   "id": "622bbe5e",
   "metadata": {},
   "outputs": [
    {
     "name": "stdout",
     "output_type": "stream",
     "text": [
      "1\n"
     ]
    }
   ],
   "source": [
    "#Chia một số m cho n, kết quả làm tròn xuống\n",
    "m, n = map(int, input().split())\n",
    "print(m // n)"
   ]
  },
  {
   "cell_type": "code",
   "execution_count": 8,
   "id": "9e82a869",
   "metadata": {},
   "outputs": [
    {
     "name": "stdout",
     "output_type": "stream",
     "text": [
      "2\n"
     ]
    }
   ],
   "source": [
    "#Chia một số m cho n, kết quả làm tròn lên\n",
    "m, n = map(int, input().split())\n",
    "print(m // n + (m % n > 0))"
   ]
  }
 ],
 "metadata": {
  "kernelspec": {
   "display_name": "base",
   "language": "python",
   "name": "python3"
  },
  "language_info": {
   "codemirror_mode": {
    "name": "ipython",
    "version": 3
   },
   "file_extension": ".py",
   "mimetype": "text/x-python",
   "name": "python",
   "nbconvert_exporter": "python",
   "pygments_lexer": "ipython3",
   "version": "3.12.4"
  }
 },
 "nbformat": 4,
 "nbformat_minor": 5
}
