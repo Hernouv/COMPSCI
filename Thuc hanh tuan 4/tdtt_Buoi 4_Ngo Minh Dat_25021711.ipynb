{
 "cells": [
  {
   "cell_type": "code",
   "execution_count": null,
   "id": "7ca6c1ec",
   "metadata": {},
   "outputs": [
    {
     "name": "stdout",
     "output_type": "stream",
     "text": [
      "10\n"
     ]
    }
   ],
   "source": [
    "#w4a1\n",
    "n = int(input())\n",
    "sum = 0\n",
    "for i in range(1, n + 1):\n",
    "    sum += i\n",
    "print(sum)"
   ]
  },
  {
   "cell_type": "code",
   "execution_count": 44,
   "id": "1e802c08",
   "metadata": {},
   "outputs": [
    {
     "name": "stdout",
     "output_type": "stream",
     "text": [
      "True\n"
     ]
    }
   ],
   "source": [
    "#w4a2\n",
    "import math\n",
    "\n",
    "def isprime(num):\n",
    "    if (num % 1 != 0 or num <= 1):\n",
    "        return False\n",
    "    for i in range(2, int(math.sqrt(num)) + 1):\n",
    "        if (num % i == 0):\n",
    "            return False\n",
    "    return True\n",
    "\n",
    "n = int(input())\n",
    "print(isprime(n))"
   ]
  },
  {
   "cell_type": "code",
   "execution_count": 7,
   "id": "785d91c0",
   "metadata": {},
   "outputs": [
    {
     "name": "stdout",
     "output_type": "stream",
     "text": [
      "24\n"
     ]
    }
   ],
   "source": [
    "#w4a3\n",
    "n = int(input())\n",
    "factorial = 1\n",
    "for i in range(1, n + 1):\n",
    "    factorial *= i\n",
    "print(factorial)"
   ]
  },
  {
   "cell_type": "code",
   "execution_count": 17,
   "id": "4660bd53",
   "metadata": {},
   "outputs": [
    {
     "name": "stdout",
     "output_type": "stream",
     "text": [
      "9\n"
     ]
    }
   ],
   "source": [
    "#w4a4\n",
    "n = int(input())\n",
    "n /= 10\n",
    "dcount = 1\n",
    "while(abs(n) >= 1):\n",
    "    n /= 10\n",
    "    dcount += 1\n",
    "print(dcount)"
   ]
  },
  {
   "cell_type": "code",
   "execution_count": null,
   "id": "c76f60f3",
   "metadata": {},
   "outputs": [],
   "source": [
    "#w4a5\n",
    "sz = int(input())\n",
    "arr = map(int, input().split())\n",
    "\n",
    "for i in arr:\n",
    "    if i == 42:\n",
    "        print(\"I've found the meaning of life!\")\n",
    "        exit(0)\n",
    "print(\"It's a joke!\")"
   ]
  },
  {
   "cell_type": "code",
   "execution_count": null,
   "id": "6a739ed3",
   "metadata": {},
   "outputs": [
    {
     "name": "stdout",
     "output_type": "stream",
     "text": [
      "17\n"
     ]
    }
   ],
   "source": [
    "#w4a6\n",
    "import math\n",
    "\n",
    "def isprime(num = int()):\n",
    "    if (num % 1 != 0 or num <= 1):\n",
    "        return False\n",
    "    for i in range(2, int(math.sqrt(num) + 1)):\n",
    "        if (num % i == 0):\n",
    "            return False\n",
    "    return True\n",
    "\n",
    "a, b = map(int, input().split())\n",
    "sum = 0\n",
    "for i in range(a, b + 1):\n",
    "    if (isprime(i)):\n",
    "        sum += i\n",
    "print(sum)"
   ]
  },
  {
   "cell_type": "code",
   "execution_count": 22,
   "id": "f165bfff",
   "metadata": {},
   "outputs": [
    {
     "name": "stdout",
     "output_type": "stream",
     "text": [
      "7\n"
     ]
    }
   ],
   "source": [
    "#w4a7\n",
    "import math\n",
    "\n",
    "def isprime(num):\n",
    "    if (num % 1 != 0 or num <= 1):\n",
    "        return False\n",
    "    for i in range(2, int(math.sqrt(num) + 1)):\n",
    "        if (num % i == 0):\n",
    "            return False\n",
    "    return True\n",
    "\n",
    "n = int(input())\n",
    "for i in range(n, 1, -1):\n",
    "    if (n % i == 0 and isprime(i)):\n",
    "        print(i)\n",
    "        break"
   ]
  },
  {
   "cell_type": "code",
   "execution_count": 7,
   "id": "ef069a54",
   "metadata": {},
   "outputs": [
    {
     "name": "stdout",
     "output_type": "stream",
     "text": [
      "1 121\n"
     ]
    }
   ],
   "source": [
    "#w4a8\n",
    "def ispalindrome(num):\n",
    "    s = str(num)\n",
    "    return s == s[::-1]\n",
    "\n",
    "n = int(input())\n",
    "c = 0\n",
    "while (not(ispalindrome(n))):\n",
    "    n += int(str(n)[::-1])\n",
    "    c += 1  \n",
    "    \n",
    "print(c, n)"
   ]
  },
  {
   "cell_type": "code",
   "execution_count": 25,
   "id": "cdae39e1",
   "metadata": {},
   "outputs": [
    {
     "name": "stdout",
     "output_type": "stream",
     "text": [
      "1 4 9 16 25 36 49 64 81 "
     ]
    }
   ],
   "source": [
    "#w4a9\n",
    "\n",
    "def distinctd(num):\n",
    "    s = str(num)\n",
    "    for i in range(len(s)):\n",
    "        for j in range(i + 1, len(s)):\n",
    "            if (s[i] == s[j]):\n",
    "                return False\n",
    "    return True\n",
    "    \n",
    "n = int(input())\n",
    "i = 1\n",
    "exec = 0 \n",
    "while (i * i <= n):\n",
    "    if distinctd(i * i):\n",
    "        print(i * i, end = ' ')\n",
    "        exec += 1\n",
    "    i += 1\n",
    "    \n",
    "if (exec == 0):\n",
    "    print(\"no number\")\n"
   ]
  },
  {
   "cell_type": "code",
   "execution_count": 31,
   "id": "80867d1b",
   "metadata": {},
   "outputs": [
    {
     "name": "stdout",
     "output_type": "stream",
     "text": [
      "171 125\n"
     ]
    }
   ],
   "source": [
    "#w4a10\n",
    "def collatz(num):\n",
    "    c = 1\n",
    "    while (num != 1):\n",
    "        if (num % 2 == 0):\n",
    "            num //= 2\n",
    "        else:\n",
    "            num = num * 3 + 1\n",
    "        c += 1\n",
    "    return c \n",
    "\n",
    "n = int(input())\n",
    "onum = 1\n",
    "oc = 0\n",
    "for i in range(1, n + 1):\n",
    "    t = collatz(i)\n",
    "    if (t > oc):\n",
    "        oc = t\n",
    "        onum = i\n",
    "        \n",
    "print(onum, oc)"
   ]
  },
  {
   "cell_type": "code",
   "execution_count": 32,
   "id": "2a383c35",
   "metadata": {},
   "outputs": [
    {
     "name": "stdout",
     "output_type": "stream",
     "text": [
      "12\n"
     ]
    }
   ],
   "source": [
    "#w4a11\n",
    "n = int(input())\n",
    "c = 0\n",
    "for i in range(2, n + 1, 2):\n",
    "    if (n % i == 0):\n",
    "        c += 1\n",
    "print(c)"
   ]
  },
  {
   "cell_type": "code",
   "execution_count": 39,
   "id": "5d2943d5",
   "metadata": {},
   "outputs": [
    {
     "name": "stdout",
     "output_type": "stream",
     "text": [
      "2055\n"
     ]
    }
   ],
   "source": [
    "#w4a12\n",
    "n, m = map(float, input().split())\n",
    "print(f\"{(n * (1.007 ** m) // 1):.0f}\")"
   ]
  },
  {
   "cell_type": "code",
   "execution_count": 41,
   "id": "22f7ed9e",
   "metadata": {},
   "outputs": [
    {
     "name": "stdout",
     "output_type": "stream",
     "text": [
      "false\n"
     ]
    }
   ],
   "source": [
    "#w4a13\n",
    "def dsum(num):\n",
    "    sum = 0\n",
    "    for i in range(1, num + 1):\n",
    "        if (num % i == 0):\n",
    "            sum += i\n",
    "    return sum\n",
    "\n",
    "a, b = map(int, input().split())\n",
    "sa = dsum(a)\n",
    "sb = dsum(b)\n",
    "if (sa == sb):\n",
    "    print(\"true\")\n",
    "else: \n",
    "    print(\"false\")"
   ]
  },
  {
   "cell_type": "code",
   "execution_count": 43,
   "id": "40c0155a",
   "metadata": {},
   "outputs": [
    {
     "name": "stdout",
     "output_type": "stream",
     "text": [
      "4\n"
     ]
    }
   ],
   "source": [
    "#w4a14\n",
    "import math\n",
    "a, b = map(int, input().split())\n",
    "print(math.gcd(a, b))"
   ]
  },
  {
   "cell_type": "code",
   "execution_count": 48,
   "id": "6839a94f",
   "metadata": {},
   "outputs": [
    {
     "name": "stdout",
     "output_type": "stream",
     "text": [
      "invalid\n"
     ]
    }
   ],
   "source": [
    "#w4a15\n",
    "n, m = map(int, input().split())\n",
    "x2 = (m - 2 * n)/2\n",
    "x1 = n - x2\n",
    "if (x1 % 1 == 0 and x2 % 1 == 0):\n",
    "    print(f\"{x1:.0f} {x2:.0f}\".format(x1, x2))\n",
    "else:\n",
    "    print(\"invalid\")"
   ]
  },
  {
   "cell_type": "code",
   "execution_count": 2,
   "id": "d74ad274",
   "metadata": {},
   "outputs": [
    {
     "name": "stdout",
     "output_type": "stream",
     "text": [
      "6 12 18 24 30 36 42 48 54 60 66 72 78 84 90 96 "
     ]
    }
   ],
   "source": [
    "#w4a16\n",
    "for i in range(1, 100):\n",
    "    if (i % 6 == 0):\n",
    "        print(i, end = ' ')"
   ]
  },
  {
   "cell_type": "code",
   "execution_count": null,
   "id": "3e7c8ce3",
   "metadata": {},
   "outputs": [],
   "source": [
    "#w4a17\n",
    "n = int(input())\n",
    "for i in range(1, 11):\n",
    "    print(f\"{n} x {i} = {n * i}\")"
   ]
  },
  {
   "cell_type": "code",
   "execution_count": 5,
   "id": "a387e02e",
   "metadata": {},
   "outputs": [
    {
     "name": "stdout",
     "output_type": "stream",
     "text": [
      "1 2 4 8 16 32 64 "
     ]
    }
   ],
   "source": [
    "#w4a18\n",
    "a, b = map(int, input().split())\n",
    "for i in range(1, min(a, b) + 1):\n",
    "    if (a % i == 0 and b % i == 0):\n",
    "        print(i, end = ' ')"
   ]
  },
  {
   "cell_type": "code",
   "execution_count": 6,
   "id": "0fc37419",
   "metadata": {},
   "outputs": [
    {
     "name": "stdout",
     "output_type": "stream",
     "text": [
      "2 4 6 8 10 12 14 16 18 20 "
     ]
    }
   ],
   "source": [
    "#w4a19\n",
    "n = int(input())\n",
    "t = 2\n",
    "while (t <= n):\n",
    "    print(t, end = ' ')\n",
    "    t += 2"
   ]
  },
  {
   "cell_type": "code",
   "execution_count": 12,
   "id": "9aeada2e",
   "metadata": {},
   "outputs": [
    {
     "name": "stdout",
     "output_type": "stream",
     "text": [
      "True\n"
     ]
    }
   ],
   "source": [
    "#w4a20\n",
    "n = int(input())\n",
    "print(n & (n-1) == 0)"
   ]
  },
  {
   "cell_type": "code",
   "execution_count": null,
   "id": "88c53dbf",
   "metadata": {},
   "outputs": [],
   "source": [
    "#w4a21\n",
    "n = input()\n",
    "ds = 0\n",
    "for i in  range(len(n)):\n",
    "    ds += int(n[i])\n",
    "print(ds)"
   ]
  },
  {
   "cell_type": "code",
   "execution_count": null,
   "id": "6ce0f30c",
   "metadata": {},
   "outputs": [
    {
     "name": "stdout",
     "output_type": "stream",
     "text": [
      "5 4\n"
     ]
    }
   ],
   "source": [
    "#w4a22\n",
    "n = input()\n",
    "ec = 0\n",
    "oc = 0\n",
    "for i in range(len(n)):\n",
    "    if (int(n[i]) % 2):\n",
    "        oc += 1\n",
    "    else:\n",
    "        ec += 1\n",
    "print(oc, ec)"
   ]
  },
  {
   "cell_type": "code",
   "execution_count": 27,
   "id": "3c82d964",
   "metadata": {},
   "outputs": [
    {
     "name": "stdout",
     "output_type": "stream",
     "text": [
      "9\n"
     ]
    }
   ],
   "source": [
    "#w4a23\n",
    "n = int(input())\n",
    "sum = 0\n",
    "k = 1\n",
    "while (0 == 0):\n",
    "    sum += k\n",
    "    if (sum + k + 1 >= n):\n",
    "        break\n",
    "    k += 1\n",
    "print(k)"
   ]
  },
  {
   "cell_type": "code",
   "execution_count": null,
   "id": "d8352a30",
   "metadata": {},
   "outputs": [],
   "source": [
    "#w4a24\n",
    "a = float(input())\n",
    "n = 0\n",
    "sum = 0\n",
    "while (sum <= a):\n",
    "    n += 1\n",
    "    sum += 1/n\n",
    "print(n)"
   ]
  },
  {
   "cell_type": "code",
   "execution_count": null,
   "id": "9a867843",
   "metadata": {},
   "outputs": [],
   "source": [
    "#w4a25\n",
    "n = -1e20\n",
    "while(0 == 0):\n",
    "    inp = int(input())\n",
    "    if (inp == -1):\n",
    "        break\n",
    "    n = max(n, inp)\n",
    "print(n)"
   ]
  },
  {
   "cell_type": "code",
   "execution_count": 54,
   "id": "36492bd6",
   "metadata": {},
   "outputs": [
    {
     "name": "stdout",
     "output_type": "stream",
     "text": [
      "13\n"
     ]
    }
   ],
   "source": [
    "#w4a26\n",
    "a = int(input())\n",
    "n1 = 0\n",
    "n2 = 1\n",
    "while(0 == 0):\n",
    "    n1 += n2\n",
    "    if (n1 > a):\n",
    "        break\n",
    "    n2 += n1\n",
    "    if (n2 > a):\n",
    "        break\n",
    "print(min(n1, n2))"
   ]
  },
  {
   "cell_type": "code",
   "execution_count": 57,
   "id": "49a39bc0",
   "metadata": {},
   "outputs": [
    {
     "name": "stdout",
     "output_type": "stream",
     "text": [
      "4\n"
     ]
    }
   ],
   "source": [
    "#w4a27\n",
    "s = input()\n",
    "status = 0\n",
    "count = 0\n",
    "for c in s:\n",
    "    if ('a' <= c <= 'z' or 'A' <= c <= 'Z'):\n",
    "        if (status == 0):\n",
    "            count += 1\n",
    "            status = 1\n",
    "    else:\n",
    "        status = 0\n",
    "print(count)\n",
    "        "
   ]
  },
  {
   "cell_type": "code",
   "execution_count": null,
   "id": "2e0e3291",
   "metadata": {},
   "outputs": [
    {
     "name": "stdout",
     "output_type": "stream",
     "text": [
      "woauh"
     ]
    }
   ],
   "source": [
    "#w4a28\n",
    "s = input()\n",
    "for i in range(len(s)):\n",
    "    if ('a' <= s[i] <= 'z' or 'A' <= s[i] <= 'Z'):\n",
    "        j = i\n",
    "        while (j < len(s) and ('a' <= s[j] <= 'z' or 'A' <= s[j] <= 'Z')):\n",
    "            print(s[j], end = '')\n",
    "            j += 1\n",
    "        break"
   ]
  },
  {
   "cell_type": "code",
   "execution_count": null,
   "id": "bd2b3afb",
   "metadata": {},
   "outputs": [
    {
     "name": "stdout",
     "output_type": "stream",
     "text": [
      "30\n"
     ]
    }
   ],
   "source": [
    "#w4a29\n",
    "s = input().split()\n",
    "for i in range(len(s)):\n",
    "    if (s[i][len(s[i]) - 1] == ','):\n",
    "        s[i] = s[i][:-1]\n",
    "sum = 0       \n",
    "for c in s:\n",
    "    sum += int(c)\n",
    "print(sum)"
   ]
  },
  {
   "cell_type": "code",
   "execution_count": 67,
   "id": "f5c070e7",
   "metadata": {},
   "outputs": [
    {
     "name": "stdout",
     "output_type": "stream",
     "text": [
      "1 27 3\n"
     ]
    }
   ],
   "source": [
    "#w4a30\n",
    "lc = 0\n",
    "uc = 0\n",
    "nc = 0\n",
    "\n",
    "s = input()\n",
    "for c in s:\n",
    "    if ('a' <= c <= 'z'):\n",
    "        lc += 1\n",
    "    elif ('A' <= c <= 'Z'):\n",
    "        uc += 1\n",
    "    elif ('0' <= c <= '9'):\n",
    "        nc += 1\n",
    "print(uc, lc, nc)"
   ]
  },
  {
   "cell_type": "code",
   "execution_count": 69,
   "id": "97e6ab1f",
   "metadata": {},
   "outputs": [
    {
     "name": "stdout",
     "output_type": "stream",
     "text": [
      "24\n"
     ]
    }
   ],
   "source": [
    "#w4a31\n",
    "s = input()\n",
    "sum = 0\n",
    "for c in s:\n",
    "    if ('0' <= c <= '9'):\n",
    "        sum += int(c)\n",
    "print(sum)"
   ]
  },
  {
   "cell_type": "code",
   "execution_count": 14,
   "id": "3b631543",
   "metadata": {},
   "outputs": [
    {
     "name": "stdout",
     "output_type": "stream",
     "text": [
      "True\n"
     ]
    }
   ],
   "source": [
    "#w4a32\n",
    "u = False\n",
    "s = False\n",
    "n = False\n",
    "l = False\n",
    "\n",
    "str = input()\n",
    "clen = (len(str) > 6)\n",
    "for c in str:\n",
    "    if ('a' <= c <= 'z'):\n",
    "        l = True\n",
    "    elif ('A' <= c <= 'Z'):\n",
    "        u = True\n",
    "    elif ('0' <= c <= '9'):\n",
    "        n = True\n",
    "    elif (c != ' '):\n",
    "        s = True\n",
    "        \n",
    "print(l and u and n and s and clen)"
   ]
  },
  {
   "cell_type": "code",
   "execution_count": null,
   "id": "6d03b0cf",
   "metadata": {},
   "outputs": [
    {
     "name": "stdout",
     "output_type": "stream",
     "text": [
      "123\n",
      "123.456.789\n"
     ]
    }
   ],
   "source": [
    "#w4a33\n",
    "n = int(input())\n",
    "s = f\"{n}\"\n",
    "\n",
    "i = len(s) - 1\n",
    "tcnt = 0\n",
    "while (i >= 0):\n",
    "    if ('0' <= s[i] <= '9'):\n",
    "        tcnt += 1\n",
    "    if (tcnt == 3 and i != 0):\n",
    "        s = s[:i] + '.' + s[i:]\n",
    "        tcnt = 0\n",
    "    i -= 1\n",
    "print(s)\n",
    "\n",
    "#123456789"
   ]
  },
  {
   "cell_type": "code",
   "execution_count": null,
   "id": "cd2a7903",
   "metadata": {},
   "outputs": [
    {
     "ename": "ValueError",
     "evalue": "not enough values to unpack (expected 2, got 0)",
     "output_type": "error",
     "traceback": [
      "\u001b[1;31m---------------------------------------------------------------------------\u001b[0m",
      "\u001b[1;31mValueError\u001b[0m                                Traceback (most recent call last)",
      "Cell \u001b[1;32mIn[36], line 1\u001b[0m\n\u001b[1;32m----> 1\u001b[0m a, b \u001b[38;5;241m=\u001b[39m \u001b[38;5;28minput\u001b[39m()\u001b[38;5;241m.\u001b[39msplit()\n\u001b[0;32m      2\u001b[0m \u001b[38;5;28mprint\u001b[39m(a \u001b[38;5;241m-\u001b[39m b)\n",
      "\u001b[1;31mValueError\u001b[0m: not enough values to unpack (expected 2, got 0)"
     ]
    }
   ],
   "source": [
    "#w4a34\n",
    "a = input()\n",
    "b = input()\n",
    "\n",
    "pos = -1\n",
    "for i in range(len(a) - len(b) + 1):\n",
    "    if (a[i:i+len(b)] == b):\n",
    "        pos = i\n",
    "        break\n",
    "\n",
    "if (pos != -1):\n",
    "    print(a[:pos] + a[pos+len(b):])"
   ]
  }
 ],
 "metadata": {
  "kernelspec": {
   "display_name": "base",
   "language": "python",
   "name": "python3"
  },
  "language_info": {
   "codemirror_mode": {
    "name": "ipython",
    "version": 3
   },
   "file_extension": ".py",
   "mimetype": "text/x-python",
   "name": "python",
   "nbconvert_exporter": "python",
   "pygments_lexer": "ipython3",
   "version": "3.12.4"
  }
 },
 "nbformat": 4,
 "nbformat_minor": 5
}
